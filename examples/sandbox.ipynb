{
 "cells": [
  {
   "cell_type": "markdown",
   "metadata": {},
   "source": [
    "# Development Sandbox"
   ]
  },
  {
   "cell_type": "markdown",
   "metadata": {},
   "source": [
    "## Preliminary"
   ]
  },
  {
   "cell_type": "code",
   "execution_count": 1,
   "metadata": {
    "collapsed": false
   },
   "outputs": [],
   "source": [
    "%matplotlib inline\n",
    "%load_ext autoreload\n",
    "%autoreload 2"
   ]
  },
  {
   "cell_type": "code",
   "execution_count": 2,
   "metadata": {
    "collapsed": true
   },
   "outputs": [],
   "source": [
    "from os import path\n",
    "import matplotlib.pyplot as plt\n",
    "import numpy as np\n",
    "import numpy.testing as npt\n",
    "import PIL.Image as Image\n",
    "import sys\n",
    "import tensorflow as tf\n",
    "\n",
    "sys.path.append(\"..\")\n",
    "sys.path.append(\"../utils\")\n",
    "\n",
    "from tflego import blocks\n",
    "from tflego import training\n",
    "from tflego.blocks import NP_DTYPE, TF_DTYPE, NP_ITYPE, TF_ITYPE\n",
    "import plotting"
   ]
  },
  {
   "cell_type": "code",
   "execution_count": 3,
   "metadata": {
    "collapsed": true
   },
   "outputs": [],
   "source": [
    "output_dir = \"/tmp/data/\""
   ]
  },
  {
   "cell_type": "markdown",
   "metadata": {},
   "source": [
    "## Load MNIST data"
   ]
  },
  {
   "cell_type": "code",
   "execution_count": 4,
   "metadata": {
    "collapsed": false
   },
   "outputs": [
    {
     "name": "stdout",
     "output_type": "stream",
     "text": [
      "Extracting /tmp/data/train-images-idx3-ubyte.gz\n",
      "Extracting /tmp/data/train-labels-idx1-ubyte.gz\n",
      "Extracting /tmp/data/t10k-images-idx3-ubyte.gz\n",
      "Extracting /tmp/data/t10k-labels-idx1-ubyte.gz\n"
     ]
    }
   ],
   "source": [
    "from tensorflow.examples.tutorials.mnist import input_data\n",
    "mnist = input_data.read_data_sets(output_dir, one_hot=True)"
   ]
  },
  {
   "cell_type": "code",
   "execution_count": 5,
   "metadata": {
    "collapsed": false
   },
   "outputs": [
    {
     "data": {
      "text/plain": [
       "<matplotlib.image.AxesImage at 0x5cd6750>"
      ]
     },
     "execution_count": 5,
     "metadata": {},
     "output_type": "execute_result"
    },
    {
     "data": {
      "image/png": "[encoded data removed]",
      "text/plain": [
       "<matplotlib.figure.Figure at 0x372e850>"
      ]
     },
     "metadata": {},
     "output_type": "display_data"
    }
   ],
   "source": [
    "plt.imshow(np.reshape(mnist.test.images[0, :], (28, 28)), cmap=\"Greys_r\", interpolation=\"nearest\")"
   ]
  },
  {
   "cell_type": "markdown",
   "metadata": {},
   "source": [
    "## Sequence-to-sequence"
   ]
  },
  {
   "cell_type": "code",
   "execution_count": 11,
   "metadata": {
    "collapsed": false
   },
   "outputs": [
    {
     "name": "stdout",
     "output_type": "stream",
     "text": [
      "[u'RNN/BasicRNNCell/Linear/Matrix:0', u'RNN/BasicRNNCell/Linear/Bias:0']\n"
     ]
    }
   ],
   "source": [
    "tf.reset_default_graph()\n",
    "\n",
    "# Random seed\n",
    "np.random.seed(1)\n",
    "tf.set_random_seed(1)\n",
    "\n",
    "# Test data\n",
    "n_input = 3\n",
    "n_data = 4\n",
    "n_maxlength = 5\n",
    "test_data = np.zeros((n_data, n_maxlength, n_input), dtype=NP_DTYPE)\n",
    "lengths = []\n",
    "for i_data in xrange(n_data):\n",
    "    length = np.random.randint(1, n_maxlength + 1)\n",
    "    lengths.append(length)\n",
    "    test_data[i_data, :length, :] = np.random.randn(length, n_input)\n",
    "lengths = np.array(lengths, dtype=NP_ITYPE)\n",
    "\n",
    "# Model parameters\n",
    "n_hidden = 6\n",
    "rnn_type = \"rnn\"\n",
    "\n",
    "# TensorFlow model\n",
    "x = tf.placeholder(TF_DTYPE, [None, n_maxlength, n_input])\n",
    "x_lengths = tf.placeholder(TF_DTYPE, [None])\n",
    "rnn_outputs, rnn_states = blocks.build_rnn(x, x_lengths, n_hidden, rnn_type=rnn_type)\n",
    "\n",
    "print [v.name for v in tf.all_variables()]\n",
    "with tf.variable_scope(\"RNN/BasicRNNCell/Linear\", reuse=True):\n",
    "    W = tf.get_variable(\"Matrix\")\n",
    "    b = tf.get_variable(\"Bias\")\n",
    "\n",
    "# TensorFlow graph\n",
    "init = tf.initialize_all_variables()\n",
    "with tf.Session() as session:\n",
    "    session.run(init)\n",
    "\n",
    "    # Output\n",
    "    tf_output = rnn_outputs.eval({x: test_data, x_lengths: lengths})\n",
    "    tf_states = rnn_states.eval({x: test_data, x_lengths: lengths})\n",
    "\n",
    "    # Weights\n",
    "    W = W.eval()\n",
    "    b = b.eval()\n",
    "\n",
    "# Numpy model\n",
    "# np_output = np_rnn(test_data, lengths, W, b, n_maxlength)\n",
    "\n",
    "\n",
    "# npt.assert_almost_equal(tf_output, np_output, decimal=5)"
   ]
  },
  {
   "cell_type": "code",
   "execution_count": 100,
   "metadata": {
    "collapsed": false
   },
   "outputs": [
    {
     "name": "stdout",
     "output_type": "stream",
     "text": [
      "['asd', 'c', 'ddd']\n"
     ]
    }
   ],
   "source": [
    "np.random.seed(1)\n",
    "b = [\"asd\", \"ddd\", \"c\"]\n",
    "np.random.shuffle(b)\n",
    "print b"
   ]
  },
  {
   "cell_type": "code",
   "execution_count": 85,
   "metadata": {
    "collapsed": false,
    "scrolled": false
   },
   "outputs": [
    {
     "name": "stdout",
     "output_type": "stream",
     "text": [
      "!!!!! Tensor(\"rnn_encoder/transpose:0\", shape=(?, 5, 6), dtype=float32)\n",
      "rnn_encoder/transpose:0\n",
      "Tensor(\"rnn_decoder/zeros:0\", shape=(?, 3), dtype=float32)\n",
      "(4, 5, 6)\n",
      "(4, 6)\n",
      "(4, 5, 3)\n",
      "(4, 5, 3)\n",
      "[u'rnn_encoder/BasicRNNCell/Linear/Matrix:0', u'rnn_encoder/BasicRNNCell/Linear/Bias:0', u'rnn_decoder/BasicRNNCell/Linear/Matrix:0', u'rnn_decoder/BasicRNNCell/Linear/Bias:0', u'rnn_decoder/linear_output/W:0', u'rnn_decoder/linear_output/b:0']\n"
     ]
    }
   ],
   "source": [
    "tf.reset_default_graph()\n",
    "\n",
    "# Random seed\n",
    "np.random.seed(1)\n",
    "# tf.set_random_seed(1)\n",
    "\n",
    "# Test data\n",
    "n_input = 3\n",
    "n_data = 4\n",
    "n_maxlength = 5\n",
    "test_data = np.zeros((n_data, n_maxlength, n_input), dtype=NP_DTYPE)\n",
    "lengths = []\n",
    "for i_data in xrange(n_data):\n",
    "    length = np.random.randint(1, n_maxlength + 1)\n",
    "    lengths.append(length)\n",
    "    test_data[i_data, :length, :] = np.random.randn(length, n_input)\n",
    "lengths = np.array(lengths, dtype=NP_ITYPE)\n",
    "\n",
    "# Model parameters\n",
    "n_hidden = 6\n",
    "n_output = n_input\n",
    "rnn_type = \"rnn\"\n",
    "\n",
    "# TensorFlow model\n",
    "x = tf.placeholder(TF_DTYPE, [None, n_maxlength, n_input])\n",
    "x_lengths = tf.placeholder(TF_DTYPE, [None])\n",
    "rnn_outputs, rnn_states = blocks.build_rnn(x, x_lengths, n_hidden, rnn_type=rnn_type, scope=\"rnn_encoder\")\n",
    "print \"!\"*5, rnn_outputs\n",
    "print rnn_outputs.name\n",
    "\n",
    "def unpack_sequence(tensor):\n",
    "    \"\"\"Split the single tensor of a sequence into a list of frames.\"\"\"\n",
    "    return tf.unpack(tf.transpose(tensor, perm=[1, 0, 2]))\n",
    "\n",
    "def pack_sequence(sequence):\n",
    "    \"\"\"Combine a list of the frames into a single tensor of the sequence.\"\"\"\n",
    "    return tf.transpose(tf.pack(sequence), perm=[1, 0, 2])\n",
    "\n",
    "\n",
    "def build_encdec_lazydynamic():\n",
    "    pass\n",
    "\n",
    "\n",
    "def build_encdec_outback():\n",
    "    pass\n",
    "\n",
    "\n",
    "\n",
    "\n",
    "def build_rnn_decoder_outback(initial_state, n_hidden, n_output, maxlength,\n",
    "        rnn_type=\"lstm\", initial_prev_output=None, dtype=None, **kwargs):\n",
    "    \"\"\"In this decoder the output is fed back as input.\"\"\"\n",
    "\n",
    "    with tf.variable_scope(\"rnn_decoder\") as scope:\n",
    "    \n",
    "        # RNN decoder cell\n",
    "        cell = blocks.build_rnn_cell(n_hidden, rnn_type, **kwargs)\n",
    "\n",
    "        # Initial state and input\n",
    "        state = initial_state\n",
    "        if rnn_type == \"lstm\":\n",
    "            batch_size = tf.shape(initial_state[0])[0]  # cell and hidden states together in tuple\n",
    "        elif rnn_type == \"gru\" or rnn_type == \"rnn\":\n",
    "            batch_size = tf.shape(initial_state)[0]\n",
    "        if initial_prev_output is not None:\n",
    "            prev_output = initial_prev_output\n",
    "        else:\n",
    "            if not dtype:\n",
    "                raise ValueError(\"If no initial_prev_output is provided, dtype must be.\")\n",
    "            prev_output = tf.zeros([batch_size, n_output], dtype)\n",
    "            prev_output.set_shape([None, n_output])\n",
    "            print prev_output\n",
    "        \n",
    "        # Decode over timesteps\n",
    "        outputs = []\n",
    "        for i_time in xrange(maxlength):\n",
    "            if i_time > 0:\n",
    "                scope.reuse_variables()\n",
    "            output, state = cell(prev_output, state)\n",
    "            with tf.variable_scope(\"linear_output\"):\n",
    "                output = blocks.build_linear(output, n_output)\n",
    "            outputs.append(output)\n",
    "            prev_output = output\n",
    "\n",
    "        return pack_sequence(outputs)\n",
    "\n",
    "# print \"4\", rnn_states\n",
    "#     rnn_states = rnn_states\n",
    "rnn_decoder = build_rnn_decoder_outback(rnn_states, n_hidden, n_output, n_maxlength, rnn_type, dtype=TF_DTYPE)\n",
    "\n",
    "\n",
    "#     for i_time in xrange(max_length):\n",
    "        \n",
    "        \n",
    "#         if i > 0:\n",
    "#             variable_scope.get_variable_scope().reuse_variables()\n",
    "            \n",
    "\n",
    "\n",
    "with tf.variable_scope(\"rnn_encoder/BasicRNNCell/Linear\", reuse=True):\n",
    "    W = tf.get_variable(\"Matrix\")\n",
    "    b = tf.get_variable(\"Bias\")\n",
    "with tf.variable_scope(\"rnn_decoder/BasicRNNCell/Linear\", reuse=True):\n",
    "    W_rnn_decoder = tf.get_variable(\"Matrix\")\n",
    "    b_rnn_decoder = tf.get_variable(\"Bias\")\n",
    "with tf.variable_scope(\"rnn_decoder/linear_output\", reuse=True):\n",
    "    W_rnn_output = tf.get_variable(\"W\")\n",
    "    b_rnn_output = tf.get_variable(\"b\")\n",
    "\n",
    "    \n",
    "# TensorFlow graph\n",
    "init = tf.initialize_all_variables()\n",
    "with tf.Session() as session:\n",
    "    session.run(init)\n",
    "\n",
    "    # Output\n",
    "    tf_output = rnn_outputs.eval({x: test_data, x_lengths: lengths})\n",
    "#     tf_states = rnn_states.eval({x: test_data, x_lengths: lengths})\n",
    "    tf_decoder = rnn_decoder.eval({x: test_data, x_lengths: lengths})\n",
    "\n",
    "    # Weights\n",
    "    W = W.eval()\n",
    "    b = b.eval()\n",
    "    W_rnn_decoder = W_rnn_decoder.eval()\n",
    "    b_rnn_decoder = b_rnn_decoder.eval()\n",
    "    W_rnn_output = W_rnn_output.eval()\n",
    "    b_rnn_output = b_rnn_output.eval()\n",
    "\n",
    "# # Numpy model\n",
    "np_output = blocks.np_rnn(test_data, lengths, W, b, n_maxlength)\n",
    "\n",
    "def np_rnn_decoder_outback(initial_states, W_hidden, b_hidden, W_output,\n",
    "        b_output, max_length):\n",
    "    \"\"\"\n",
    "    In this decoder the output is fed back as input.\n",
    "    \n",
    "    Parameters\n",
    "    ----------\n",
    "    initial_hiddens : matrix [batch_size, n_hidden]\n",
    "    \"\"\"\n",
    "    outputs = []\n",
    "    for i_data in xrange(initial_states.shape[0]):\n",
    "        output = []\n",
    "        prev_output = np.zeros(W_output.shape[1])\n",
    "        prev_state = initial_states[i_data]\n",
    "        for i_time in xrange(max_length):\n",
    "            cur_state = np.tanh(np.dot(np.hstack((prev_output, prev_state)), W_hidden) + b_hidden)\n",
    "            cur_output = np.dot(cur_state, W_output) + b_output\n",
    "            prev_state = cur_state\n",
    "            prev_output = cur_output\n",
    "            output.append(cur_output)\n",
    "        outputs.append(output)\n",
    "    return np.array(outputs)\n",
    "\n",
    "initial_state = []\n",
    "for i_data, l in enumerate(lengths):\n",
    "    initial_state.append(np_output[i_data, l - 1, :])\n",
    "initial_state = np.array(initial_state)\n",
    "        \n",
    "np_decoder = np_rnn_decoder_outback(\n",
    "    initial_state, W_rnn_decoder, b_rnn_decoder, W_rnn_output, b_rnn_output, n_maxlength\n",
    "    )\n",
    "\n",
    "print tf_output.shape\n",
    "print tf_states.shape\n",
    "print tf_decoder.shape\n",
    "print test_data.shape\n",
    "\n",
    "print [v.name for v in tf.all_variables()]\n",
    "\n",
    "npt.assert_almost_equal(tf_output, np_output, decimal=5)\n",
    "npt.assert_almost_equal(tf_decoder, np_decoder, decimal=5)\n"
   ]
  },
  {
   "cell_type": "code",
   "execution_count": 87,
   "metadata": {
    "collapsed": false
   },
   "outputs": [
    {
     "data": {
      "text/plain": [
       "[None, 5, 3]"
      ]
     },
     "execution_count": 87,
     "metadata": {},
     "output_type": "execute_result"
    }
   ],
   "source": [
    "x.get_shape().as_list()"
   ]
  },
  {
   "cell_type": "code",
   "execution_count": 54,
   "metadata": {
    "collapsed": false
   },
   "outputs": [
    {
     "name": "stdout",
     "output_type": "stream",
     "text": [
      "(4, 5, 3)\n",
      "(4, 5, 6)\n",
      "(4, 6)\n",
      "(4, 5, 3)\n"
     ]
    }
   ],
   "source": [
    "tf.reset_default_graph()\n",
    "\n",
    "# Random seed\n",
    "np.random.seed(1)\n",
    "# tf.set_random_seed(1)\n",
    "\n",
    "# Test data\n",
    "n_input = 3\n",
    "n_data = 4\n",
    "n_maxlength = 5\n",
    "test_data = np.zeros((n_data, n_maxlength, n_input), dtype=NP_DTYPE)\n",
    "lengths = []\n",
    "for i_data in xrange(n_data):\n",
    "    length = np.random.randint(1, n_maxlength + 1)\n",
    "    lengths.append(length)\n",
    "    test_data[i_data, :length, :] = np.random.randn(length, n_input)\n",
    "lengths = np.array(lengths, dtype=NP_ITYPE)\n",
    "\n",
    "# Model parameters\n",
    "n_hidden = 6\n",
    "n_output = n_input\n",
    "rnn_type = \"rnn\"\n",
    "\n",
    "# TensorFlow model\n",
    "x = tf.placeholder(TF_DTYPE, [None, n_maxlength, n_input])\n",
    "x_lengths = tf.placeholder(TF_DTYPE, [None])\n",
    "rnn_outputs, rnn_states = blocks.build_rnn(x, x_lengths, n_hidden, rnn_type=rnn_type, scope=\"rnn_encoder\")\n",
    "rnn_repeat_states = tf.reshape(tf.tile(rnn_states, [1, n_maxlength]), [-1, n_maxlength, n_hidden])\n",
    "rnn_decoder_outputs, rnn_decoder_states = blocks.build_rnn(rnn_repeat_states, x_lengths, n_hidden, rnn_type=rnn_type, scope=\"rnn_decoder\")\n",
    "with tf.variable_scope(\"rnn_decoder\"):\n",
    "    with tf.variable_scope(\"linear_output\"):\n",
    "        rnn_decoder_outputs = tf.reshape(rnn_decoder_outputs, [-1, n_hidden])\n",
    "        rnn_decoder_outputs = blocks.build_linear(rnn_decoder_outputs, n_output)\n",
    "        rnn_decoder_outputs = tf.reshape(rnn_decoder_outputs, [-1, n_maxlength, n_output])\n",
    "\n",
    "with tf.variable_scope(\"rnn_encoder/BasicRNNCell/Linear\", reuse=True):\n",
    "    W = tf.get_variable(\"Matrix\")\n",
    "    b = tf.get_variable(\"Bias\")\n",
    "with tf.variable_scope(\"rnn_decoder/BasicRNNCell/Linear\", reuse=True):\n",
    "    W_rnn_decoder = tf.get_variable(\"Matrix\")\n",
    "    b_rnn_decoder = tf.get_variable(\"Bias\")\n",
    "with tf.variable_scope(\"rnn_decoder/linear_output\", reuse=True):\n",
    "    W_rnn_output = tf.get_variable(\"W\")\n",
    "    b_rnn_output = tf.get_variable(\"b\")\n",
    "\n",
    "# TensorFlow graph\n",
    "init = tf.initialize_all_variables()\n",
    "with tf.Session() as session:\n",
    "    session.run(init)\n",
    "\n",
    "    # Output\n",
    "    tf_encoder = rnn_outputs.eval({x: test_data, x_lengths: lengths})\n",
    "    tf_states = rnn_states.eval({x: test_data, x_lengths: lengths})\n",
    "    rnn_repeat_states = rnn_repeat_states.eval({x: test_data, x_lengths: lengths})\n",
    "    rnn_decoder_outputs = rnn_decoder_outputs.eval({x: test_data, x_lengths: lengths})\n",
    "\n",
    "    # Weights\n",
    "    W_rnn_encoder = W.eval()\n",
    "    b_rnn_encoder = b.eval()\n",
    "    W_rnn_decoder = W_rnn_decoder.eval()\n",
    "    b_rnn_decoder = b_rnn_decoder.eval()\n",
    "    W_rnn_output = W_rnn_output.eval()\n",
    "    b_rnn_output = b_rnn_output.eval()    \n",
    "    \n",
    "print test_data.shape\n",
    "print tf_encoder.shape\n",
    "print tf_states.shape\n",
    "# print tf_states\n",
    "# print rnn_repeat_states.shape\n",
    "# print rnn_repeat_states\n",
    "# print tf_states\n",
    "print rnn_decoder_outputs.shape\n"
   ]
  },
  {
   "cell_type": "code",
   "execution_count": 83,
   "metadata": {
    "collapsed": false
   },
   "outputs": [],
   "source": [
    "np_encoder = blocks.np_rnn(test_data, lengths, W_rnn_encoder, b_rnn_encoder, n_maxlength)\n",
    "\n",
    "rnn_states = []\n",
    "for i_data, l in enumerate(lengths):\n",
    "    rnn_states.append(np_encoder[i_data, l - 1, :])\n",
    "rnn_states = np.array(rnn_states)\n",
    "\n",
    "np_states_repeated = np.reshape(np.repeat(rnn_states, n_maxlength, axis=0), [-1, n_maxlength, n_hidden])\n",
    "np_decoder = blocks.np_rnn(np_states_repeated, lengths, W_rnn_decoder, b_rnn_decoder, n_maxlength)\n",
    "\n",
    "x = np_decoder\n",
    "x_lengths = lengths\n",
    "maxlength = n_maxlength\n",
    "outputs = np.zeros((x.shape[0], maxlength, n_output))\n",
    "for i_data in xrange(x.shape[0]):\n",
    "    cur_x_sequence = x[i_data, :, :]\n",
    "    for i_step, cur_x in enumerate(cur_x_sequence):\n",
    "#         print cur_x\n",
    "        outputs[i_data, i_step, :] = blocks.np_linear(cur_x, W_rnn_output, b_rnn_output)\n",
    "#     break\n",
    "\n",
    "# print np_encoder\n",
    "# print rnn_states\n",
    "# print np_decoder\n",
    "\n",
    "\n",
    "# print rnn_decoder_outputs\n",
    "# print outputs\n",
    "\n",
    "npt.assert_almost_equal(outputs, rnn_decoder_outputs, decimal=5)"
   ]
  },
  {
   "cell_type": "code",
   "execution_count": 90,
   "metadata": {
    "collapsed": false
   },
   "outputs": [
    {
     "data": {
      "text/plain": [
       "(9, 6)"
      ]
     },
     "execution_count": 90,
     "metadata": {},
     "output_type": "execute_result"
    }
   ],
   "source": [
    "W_rnn_encoder.shape"
   ]
  },
  {
   "cell_type": "code",
   "execution_count": 89,
   "metadata": {
    "collapsed": false
   },
   "outputs": [
    {
     "data": {
      "text/plain": [
       "6"
      ]
     },
     "execution_count": 89,
     "metadata": {},
     "output_type": "execute_result"
    }
   ],
   "source": [
    "n_hidden"
   ]
  },
  {
   "cell_type": "code",
   "execution_count": null,
   "metadata": {
    "collapsed": true
   },
   "outputs": [],
   "source": []
  }
 ],
 "metadata": {
  "kernelspec": {
   "display_name": "Python 2",
   "language": "python",
   "name": "python2"
  },
  "language_info": {
   "codemirror_mode": {
    "name": "ipython",
    "version": 2
   },
   "file_extension": ".py",
   "mimetype": "text/x-python",
   "name": "python",
   "nbconvert_exporter": "python",
   "pygments_lexer": "ipython2",
   "version": "2.7.5"
  }
 },
 "nbformat": 4,
 "nbformat_minor": 1
}
